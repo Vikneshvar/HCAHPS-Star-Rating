{
 "cells": [
  {
   "cell_type": "code",
   "execution_count": 12,
   "metadata": {
    "collapsed": false
   },
   "outputs": [],
   "source": [
    "import sys\n",
    "import pandas as pd\n",
    "import xlsxwriter"
   ]
  },
  {
   "cell_type": "code",
   "execution_count": 13,
   "metadata": {
    "collapsed": false
   },
   "outputs": [],
   "source": [
    "df_infection=pd.read_csv('Infection.csv',skipinitialspace=True)\n",
    "df_survey=pd.read_csv('Survey.csv',skipinitialspace=True)"
   ]
  },
  {
   "cell_type": "code",
   "execution_count": 14,
   "metadata": {
    "collapsed": false
   },
   "outputs": [
    {
     "name": "stdout",
     "output_type": "stream",
     "text": [
      "Index(['﻿Provider ID', 'Hospital Name', 'Address', 'City', 'State', 'ZIP Code',\n",
      "       'County Name', 'Phone Number', 'Measure Name', 'Measure ID',\n",
      "       'Compared to National', 'Score', 'Footnote', 'Measure Start Date',\n",
      "       'Measure End Date', 'Location'],\n",
      "      dtype='object')\n",
      "Index(['Provider ID', 'Hospital Name', 'Address', 'City', 'State', 'ZIP Code',\n",
      "       'County Name', 'Phone Number', 'HCAHPS Measure ID', 'HCAHPS Question',\n",
      "       'HCAHPS Answer Description', 'Patient Survey Star Rating',\n",
      "       'Patient Survey Star Rating Footnote', 'HCAHPS Answer Percent',\n",
      "       'HCAHPS Answer Percent Footnote', 'HCAHPS Linear Mean Value',\n",
      "       'Number of Completed Surveys', 'Number of Completed Surveys Footnote',\n",
      "       'Survey Response Rate Percent', 'Survey Response Rate Percent Footnote',\n",
      "       'Measure Start Date', 'Measure End Date', 'Location'],\n",
      "      dtype='object')\n"
     ]
    }
   ],
   "source": [
    "print(df_infection.columns)\n",
    "print(df_survey.columns)"
   ]
  },
  {
   "cell_type": "code",
   "execution_count": null,
   "metadata": {
    "collapsed": false
   },
   "outputs": [],
   "source": [
    "# Convert to excel using xlsxwriter object\n",
    "writer_infection = pd.ExcelWriter('Infection.xlsx', engine='xlsxwriter')\n",
    "writer_survey = pd.ExcelWriter('Survey.xlsx', engine='xlsxwriter')"
   ]
  },
  {
   "cell_type": "code",
   "execution_count": null,
   "metadata": {
    "collapsed": true
   },
   "outputs": [],
   "source": [
    "df_infection.to_excel(writer_infection,sheet_name='Infection')\n",
    "df_survey.to_excel(writer_survey,sheet_name='Survey')\n",
    "writer_infection.save()\n",
    "writer_survey.save()"
   ]
  },
  {
   "cell_type": "code",
   "execution_count": null,
   "metadata": {
    "collapsed": true
   },
   "outputs": [],
   "source": []
  }
 ],
 "metadata": {
  "kernelspec": {
   "display_name": "Python 3",
   "language": "python",
   "name": "python3"
  },
  "language_info": {
   "codemirror_mode": {
    "name": "ipython",
    "version": 3
   },
   "file_extension": ".py",
   "mimetype": "text/x-python",
   "name": "python",
   "nbconvert_exporter": "python",
   "pygments_lexer": "ipython3",
   "version": "3.5.2"
  }
 },
 "nbformat": 4,
 "nbformat_minor": 1
}
